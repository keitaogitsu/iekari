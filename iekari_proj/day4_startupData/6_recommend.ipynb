{
 "cells": [
  {
   "cell_type": "markdown",
   "metadata": {
    "id": "m6ZQ1AhamWO_"
   },
   "source": [
    "# 協調フィルタリングを用いた商品リコメンド \n",
    "\n",
    "協調フィルタリングというアルゴリズムを使って、ユーザーにおすすめの商品を紹介する機能を作ります。\n",
    "\n",
    "教材は[/Advance/algorithm/recommend](https://techpreneur-dojo2021.growi.cloud/Advance/algorithm/recommend) にあります。協調フィルタリングの説明などはこちらをご覧ください。\n"
   ]
  },
  {
   "cell_type": "code",
   "execution_count": null,
   "metadata": {
    "id": "pVvu5t2NmWPZ",
    "outputId": "3b7675f4-feab-41b4-aec0-c1b7ab7cc6bb"
   },
   "outputs": [
    {
     "name": "stdout",
     "output_type": "stream",
     "text": [
      "^C\n",
      "Requirement already satisfied: numpy in c:\\users\\owner\\python37\\lib\\site-packages (1.18.5)\n"
     ]
    },
    {
     "name": "stderr",
     "output_type": "stream",
     "text": [
      "WARNING: You are using pip version 21.1.3; however, version 21.2.4 is available.\n",
      "You should consider upgrading via the 'c:\\users\\owner\\python37\\python.exe -m pip install --upgrade pip' command.\n"
     ]
    },
    {
     "name": "stdout",
     "output_type": "stream",
     "text": [
      "Requirement already satisfied: pandas in c:\\users\\owner\\python37\\lib\\site-packages (1.1.2)\n",
      "Requirement already satisfied: pytz>=2017.2 in c:\\users\\owner\\python37\\lib\\site-packages (from pandas) (2020.1)\n",
      "Requirement already satisfied: numpy>=1.15.4 in c:\\users\\owner\\python37\\lib\\site-packages (from pandas) (1.18.5)\n",
      "Requirement already satisfied: python-dateutil>=2.7.3 in c:\\users\\owner\\python37\\lib\\site-packages (from pandas) (2.8.0)\n",
      "Requirement already satisfied: six>=1.5 in c:\\users\\owner\\python37\\lib\\site-packages (from python-dateutil>=2.7.3->pandas) (1.15.0)\n"
     ]
    },
    {
     "name": "stderr",
     "output_type": "stream",
     "text": [
      "WARNING: You are using pip version 21.1.3; however, version 21.2.4 is available.\n",
      "You should consider upgrading via the 'c:\\users\\owner\\python37\\python.exe -m pip install --upgrade pip' command.\n"
     ]
    },
    {
     "name": "stdout",
     "output_type": "stream",
     "text": [
      "Requirement already satisfied: scikit-learn in c:\\users\\owner\\python37\\lib\\site-packages (0.24.2)\n",
      "Requirement already satisfied: scipy>=0.19.1 in c:\\users\\owner\\python37\\lib\\site-packages (from scikit-learn) (1.4.1)\n",
      "Requirement already satisfied: numpy>=1.13.3 in c:\\users\\owner\\python37\\lib\\site-packages (from scikit-learn) (1.18.5)\n",
      "Requirement already satisfied: joblib>=0.11 in c:\\users\\owner\\python37\\lib\\site-packages (from scikit-learn) (1.0.1)\n",
      "Requirement already satisfied: threadpoolctl>=2.0.0 in c:\\users\\owner\\python37\\lib\\site-packages (from scikit-learn) (2.2.0)\n"
     ]
    },
    {
     "name": "stderr",
     "output_type": "stream",
     "text": [
      "WARNING: You are using pip version 21.1.3; however, version 21.2.4 is available.\n",
      "You should consider upgrading via the 'c:\\users\\owner\\python37\\python.exe -m pip install --upgrade pip' command.\n"
     ]
    }
   ],
   "source": [
    "# 必要なモジュールをインポート\n",
    "!pip install numpy\n",
    "!pip install pandas\n",
    "!pip install scikit-learn\n"
   ]
  },
  {
   "cell_type": "code",
   "execution_count": null,
   "metadata": {
    "id": "Jfvph964mWPo"
   },
   "outputs": [],
   "source": [
    "import numpy as np\n",
    "import pandas as pd\n",
    "from sklearn.metrics.pairwise import pairwise_distances"
   ]
  },
  {
   "cell_type": "markdown",
   "metadata": {
    "id": "wEsiGJ8gmWQC"
   },
   "source": [
    "# データをダウンロード\n",
    "[Google Drive](https://drive.google.com/drive/folders/1zZrvcj2SSy2y6e7Ii4Z7i2T4_qcIR2gj)から学習用データをダウンロードします。\n",
    "この方法ではなくても良いですが、このipynbファイル直下にdataフォルダを作り、\n",
    "その中にCSVファイルを入れてください。\n",
    "[https://gitlab.com/techpreneur/dojo-summer-2021/advance/algorithm/](algorithmレポジトリ)をクローンして、フォルダ内のbatファイルまたはshファイルを実行することでも同様のことができます。\n"
   ]
  },
  {
   "cell_type": "code",
   "execution_count": 2,
   "metadata": {
    "id": "7tWSiCFKmWQH",
    "outputId": "49fa66d3-271f-4edf-d9bb-c0b8ede95fa6"
   },
   "outputs": [
    {
     "name": "stdout",
     "output_type": "stream",
     "text": [
      "Requirement already satisfied: wget in c:\\users\\ogits\\onedrive\\デスクトップ\\プログラミング\\テックプレナー道場_荻津恵太\\advance\\env_django\\lib\\site-packages (3.2)\n"
     ]
    },
    {
     "ename": "FileNotFoundError",
     "evalue": "[Errno 2] No such file or directory: '.\\\\./data/profile.csvgexcdfk0.tmp'",
     "output_type": "error",
     "traceback": [
      "\u001b[1;31m---------------------------------------------------------------------------\u001b[0m",
      "\u001b[1;31mFileNotFoundError\u001b[0m                         Traceback (most recent call last)",
      "\u001b[1;32m~\\AppData\\Local\\Temp/ipykernel_4688/4141680403.py\u001b[0m in \u001b[0;36m<module>\u001b[1;34m\u001b[0m\n\u001b[0;32m      3\u001b[0m \u001b[0mget_ipython\u001b[0m\u001b[1;33m(\u001b[0m\u001b[1;33m)\u001b[0m\u001b[1;33m.\u001b[0m\u001b[0msystem\u001b[0m\u001b[1;33m(\u001b[0m\u001b[1;34m'pip install wget'\u001b[0m\u001b[1;33m)\u001b[0m\u001b[1;33m\u001b[0m\u001b[1;33m\u001b[0m\u001b[0m\n\u001b[0;32m      4\u001b[0m \u001b[1;32mimport\u001b[0m \u001b[0mwget\u001b[0m\u001b[1;33m\u001b[0m\u001b[1;33m\u001b[0m\u001b[0m\n\u001b[1;32m----> 5\u001b[1;33m \u001b[0mwget\u001b[0m\u001b[1;33m.\u001b[0m\u001b[0mdownload\u001b[0m\u001b[1;33m(\u001b[0m\u001b[1;34m\"https://docs.google.com/uc?export=download&id=18_r7IRfnN-lnlokbQZ6A4YCSBnEVOj3d\"\u001b[0m\u001b[1;33m,\u001b[0m \u001b[0mout\u001b[0m \u001b[1;33m=\u001b[0m \u001b[1;34m\"./data/profile.csv\"\u001b[0m\u001b[1;33m)\u001b[0m\u001b[1;33m\u001b[0m\u001b[1;33m\u001b[0m\u001b[0m\n\u001b[0m\u001b[0;32m      6\u001b[0m \u001b[0mwget\u001b[0m\u001b[1;33m.\u001b[0m\u001b[0mdownload\u001b[0m\u001b[1;33m(\u001b[0m\u001b[1;34m\"https://docs.google.com/uc?export=download&id=1SlSfD8GTzapn3wjgdL4BNAerYO8GeW0S\"\u001b[0m\u001b[1;33m,\u001b[0m \u001b[0mout\u001b[0m \u001b[1;33m=\u001b[0m \u001b[1;34m\"./data/RentRoom.csv\"\u001b[0m\u001b[1;33m)\u001b[0m\u001b[1;33m\u001b[0m\u001b[1;33m\u001b[0m\u001b[0m\n\u001b[0;32m      7\u001b[0m \u001b[0mwget\u001b[0m\u001b[1;33m.\u001b[0m\u001b[0mdownload\u001b[0m\u001b[1;33m(\u001b[0m\u001b[1;34m\"https://docs.google.com/uc?export=download&id=1S_1IDepWMBPUaXiXezADwVnsUasHPZ9i\"\u001b[0m\u001b[1;33m,\u001b[0m \u001b[0mout\u001b[0m \u001b[1;33m=\u001b[0m \u001b[1;34m\"./data/cross.csv\"\u001b[0m\u001b[1;33m)\u001b[0m\u001b[1;33m\u001b[0m\u001b[1;33m\u001b[0m\u001b[0m\n",
      "\u001b[1;32mc:\\users\\ogits\\onedrive\\デスクトップ\\プログラミング\\テックプレナー道場_荻津恵太\\advance\\env_django\\lib\\site-packages\\wget.py\u001b[0m in \u001b[0;36mdownload\u001b[1;34m(url, out, bar)\u001b[0m\n\u001b[0;32m    504\u001b[0m     \u001b[1;31m# get filename for temp file in current directory\u001b[0m\u001b[1;33m\u001b[0m\u001b[1;33m\u001b[0m\u001b[1;33m\u001b[0m\u001b[0m\n\u001b[0;32m    505\u001b[0m     \u001b[0mprefix\u001b[0m \u001b[1;33m=\u001b[0m \u001b[0mdetect_filename\u001b[0m\u001b[1;33m(\u001b[0m\u001b[0murl\u001b[0m\u001b[1;33m,\u001b[0m \u001b[0mout\u001b[0m\u001b[1;33m)\u001b[0m\u001b[1;33m\u001b[0m\u001b[1;33m\u001b[0m\u001b[0m\n\u001b[1;32m--> 506\u001b[1;33m     \u001b[1;33m(\u001b[0m\u001b[0mfd\u001b[0m\u001b[1;33m,\u001b[0m \u001b[0mtmpfile\u001b[0m\u001b[1;33m)\u001b[0m \u001b[1;33m=\u001b[0m \u001b[0mtempfile\u001b[0m\u001b[1;33m.\u001b[0m\u001b[0mmkstemp\u001b[0m\u001b[1;33m(\u001b[0m\u001b[1;34m\".tmp\"\u001b[0m\u001b[1;33m,\u001b[0m \u001b[0mprefix\u001b[0m\u001b[1;33m=\u001b[0m\u001b[0mprefix\u001b[0m\u001b[1;33m,\u001b[0m \u001b[0mdir\u001b[0m\u001b[1;33m=\u001b[0m\u001b[1;34m\".\"\u001b[0m\u001b[1;33m)\u001b[0m\u001b[1;33m\u001b[0m\u001b[1;33m\u001b[0m\u001b[0m\n\u001b[0m\u001b[0;32m    507\u001b[0m     \u001b[0mos\u001b[0m\u001b[1;33m.\u001b[0m\u001b[0mclose\u001b[0m\u001b[1;33m(\u001b[0m\u001b[0mfd\u001b[0m\u001b[1;33m)\u001b[0m\u001b[1;33m\u001b[0m\u001b[1;33m\u001b[0m\u001b[0m\n\u001b[0;32m    508\u001b[0m     \u001b[0mos\u001b[0m\u001b[1;33m.\u001b[0m\u001b[0munlink\u001b[0m\u001b[1;33m(\u001b[0m\u001b[0mtmpfile\u001b[0m\u001b[1;33m)\u001b[0m\u001b[1;33m\u001b[0m\u001b[1;33m\u001b[0m\u001b[0m\n",
      "\u001b[1;32m~\\AppData\\Local\\Programs\\Python\\Python39\\lib\\tempfile.py\u001b[0m in \u001b[0;36mmkstemp\u001b[1;34m(suffix, prefix, dir, text)\u001b[0m\n\u001b[0;32m    330\u001b[0m         \u001b[0mflags\u001b[0m \u001b[1;33m=\u001b[0m \u001b[0m_bin_openflags\u001b[0m\u001b[1;33m\u001b[0m\u001b[1;33m\u001b[0m\u001b[0m\n\u001b[0;32m    331\u001b[0m \u001b[1;33m\u001b[0m\u001b[0m\n\u001b[1;32m--> 332\u001b[1;33m     \u001b[1;32mreturn\u001b[0m \u001b[0m_mkstemp_inner\u001b[0m\u001b[1;33m(\u001b[0m\u001b[0mdir\u001b[0m\u001b[1;33m,\u001b[0m \u001b[0mprefix\u001b[0m\u001b[1;33m,\u001b[0m \u001b[0msuffix\u001b[0m\u001b[1;33m,\u001b[0m \u001b[0mflags\u001b[0m\u001b[1;33m,\u001b[0m \u001b[0moutput_type\u001b[0m\u001b[1;33m)\u001b[0m\u001b[1;33m\u001b[0m\u001b[1;33m\u001b[0m\u001b[0m\n\u001b[0m\u001b[0;32m    333\u001b[0m \u001b[1;33m\u001b[0m\u001b[0m\n\u001b[0;32m    334\u001b[0m \u001b[1;33m\u001b[0m\u001b[0m\n",
      "\u001b[1;32m~\\AppData\\Local\\Programs\\Python\\Python39\\lib\\tempfile.py\u001b[0m in \u001b[0;36m_mkstemp_inner\u001b[1;34m(dir, pre, suf, flags, output_type)\u001b[0m\n\u001b[0;32m    249\u001b[0m         \u001b[0m_sys\u001b[0m\u001b[1;33m.\u001b[0m\u001b[0maudit\u001b[0m\u001b[1;33m(\u001b[0m\u001b[1;34m\"tempfile.mkstemp\"\u001b[0m\u001b[1;33m,\u001b[0m \u001b[0mfile\u001b[0m\u001b[1;33m)\u001b[0m\u001b[1;33m\u001b[0m\u001b[1;33m\u001b[0m\u001b[0m\n\u001b[0;32m    250\u001b[0m         \u001b[1;32mtry\u001b[0m\u001b[1;33m:\u001b[0m\u001b[1;33m\u001b[0m\u001b[1;33m\u001b[0m\u001b[0m\n\u001b[1;32m--> 251\u001b[1;33m             \u001b[0mfd\u001b[0m \u001b[1;33m=\u001b[0m \u001b[0m_os\u001b[0m\u001b[1;33m.\u001b[0m\u001b[0mopen\u001b[0m\u001b[1;33m(\u001b[0m\u001b[0mfile\u001b[0m\u001b[1;33m,\u001b[0m \u001b[0mflags\u001b[0m\u001b[1;33m,\u001b[0m \u001b[1;36m0o600\u001b[0m\u001b[1;33m)\u001b[0m\u001b[1;33m\u001b[0m\u001b[1;33m\u001b[0m\u001b[0m\n\u001b[0m\u001b[0;32m    252\u001b[0m         \u001b[1;32mexcept\u001b[0m \u001b[0mFileExistsError\u001b[0m\u001b[1;33m:\u001b[0m\u001b[1;33m\u001b[0m\u001b[1;33m\u001b[0m\u001b[0m\n\u001b[0;32m    253\u001b[0m             \u001b[1;32mcontinue\u001b[0m    \u001b[1;31m# try again\u001b[0m\u001b[1;33m\u001b[0m\u001b[1;33m\u001b[0m\u001b[0m\n",
      "\u001b[1;31mFileNotFoundError\u001b[0m: [Errno 2] No such file or directory: '.\\\\./data/profile.csvgexcdfk0.tmp'"
     ]
    }
   ],
   "source": [
    "# 必要なデータをダウンロード\n",
    "\n",
    "!pip install wget\n",
    "import wget\n",
    "wget.download(\"https://docs.google.com/uc?export=download&id=18_r7IRfnN-lnlokbQZ6A4YCSBnEVOj3d\", out = \"./data/profile.csv\")\n",
    "wget.download(\"https://docs.google.com/uc?export=download&id=1SlSfD8GTzapn3wjgdL4BNAerYO8GeW0S\", out = \"./data/RentRoom.csv\")\n",
    "wget.download(\"https://docs.google.com/uc?export=download&id=1S_1IDepWMBPUaXiXezADwVnsUasHPZ9i\", out = \"./data/cross.csv\")\n",
    "wget.download(\"https://docs.google.com/uc?export=download&id=1SkbuZObukLsF2nWxlAv3Xa5ueY3zrXKj\", out = \"./data/scoreLog.csv\")\n",
    "wget.download(\"https://docs.google.com/uc?export=download&id=1Ub0MH-FCzRHzMATprw7KojReVUU2q0DS\", out = \"./data/station.csv\")"
   ]
  },
  {
   "cell_type": "code",
   "execution_count": null,
   "metadata": {
    "id": "OMHzLXpZmWQJ",
    "outputId": "36fe2e17-940c-45b0-b85b-93ae65368257"
   },
   "outputs": [
    {
     "name": "stdout",
     "output_type": "stream",
     "text": [
      "C:\\Users\\Owner\\Desktop\\temp2\\algorithm\\data\n"
     ]
    },
    {
     "name": "stderr",
     "output_type": "stream",
     "text": [
      "'ls' は、内部コマンドまたは外部コマンド、\n",
      "操作可能なプログラムまたはバッチ ファイルとして認識されていません。\n"
     ]
    },
    {
     "name": "stdout",
     "output_type": "stream",
     "text": [
      " ドライブ C のボリューム ラベルは Windows です\n",
      " ボリューム シリアル番号は 408B-8E11 です\n",
      "\n",
      " C:\\Users\\Owner\\Desktop\\temp2\\algorithm\\data のディレクトリ\n",
      "\n",
      "2021/08/26  10:51    <DIR>          .\n",
      "2021/08/26  10:51    <DIR>          ..\n",
      "2021/08/23  15:27           798,792 cross.csv\n",
      "2021/08/23  14:42             1,000 data_downloader.sh\n",
      "2021/08/26  10:51             1,428 profile (1).csv\n",
      "2021/08/23  15:27             1,428 profile.csv\n",
      "2021/08/26  10:51           445,207 RentRoom (1).csv\n",
      "2021/08/23  15:27           445,207 RentRoom.csv\n",
      "2021/08/23  15:27         1,800,040 scoreLog.csv\n",
      "2021/08/23  15:27             1,606 station.csv\n",
      "               8 個のファイル           3,494,708 バイト\n",
      "               2 個のディレクトリ  59,199,516,672 バイトの空き領域\n",
      "C:\\Users\\Owner\\Desktop\\temp2\\algorithm\n"
     ]
    }
   ],
   "source": [
    "#  \"profile.csv\", \"RentRoom.csv\", \"cross.csv\", \"scoreLog.csv\", \"station.csv\"の\n",
    "# 5つのファイルがdataフォルダの中にあることを確認します。\n",
    "\n",
    "# Mac, Linuxユーザー用？(未確認)\n",
    "!ls ./data\n",
    "\n",
    "# Windowsユーザー用\n",
    "%cd ./data\n",
    "%ls\n",
    "%cd .."
   ]
  },
  {
   "cell_type": "markdown",
   "metadata": {
    "id": "y_qrPqSimWQN"
   },
   "source": [
    "## データの読み込み\n",
    "\n",
    "先ほどダウンロードしたクロス集計表データcross.csvをダウンロードします。\n",
    "\n",
    "cross.csvは以下の様なデータ形式をしており、全ユーザの全商品に対する5段階評価（1～5の整数で表す）を格納しています（未評価は0）\n",
    "\n",
    "↓cross.csvの一部\n",
    "\n",
    "|id,     |age, |gender, |household_num, |A00001, |A00002, |A00003|......|\n",
    "|  --    | -   | -      |     -         | - | - | -  | -  |\n",
    "|B00001, |62,  |1,      |1,             |0,      |0,       |3, |.......|\n",
    "|B00002. |35,  |0,      |1,             |3,      |0,       |1,| ....... |\n"
   ]
  },
  {
   "cell_type": "code",
   "execution_count": null,
   "metadata": {
    "id": "iCnvVN2pmWQS"
   },
   "outputs": [],
   "source": [
    "df_temp = pd.read_csv(\"./data/cross.csv\")\n",
    "scores = np.array(df_temp.iloc[:,4:]) # 各アイテムの評価（5列目以降）のみをnumoy行列として保存\n",
    "scores_T = scores.T\n",
    "num_user = len(scores)\n",
    "num_item = (scores.shape)[1]"
   ]
  },
  {
   "cell_type": "code",
   "execution_count": null,
   "metadata": {
    "id": "9F6AkpHgmWQZ",
    "outputId": "8649b448-e38d-4bdc-e8d6-a39c4353b2b5"
   },
   "outputs": [
    {
     "data": {
      "text/plain": [
       "array([[0, 0, 3, ..., 0, 0, 0],\n",
       "       [0, 0, 0, ..., 0, 0, 0],\n",
       "       [0, 0, 0, ..., 0, 1, 0],\n",
       "       ...,\n",
       "       [0, 0, 0, ..., 1, 0, 0],\n",
       "       [0, 0, 0, ..., 0, 0, 0],\n",
       "       [0, 0, 0, ..., 0, 0, 0]], dtype=int64)"
      ]
     },
     "execution_count": 108,
     "metadata": {},
     "output_type": "execute_result"
    }
   ],
   "source": [
    "scores"
   ]
  },
  {
   "cell_type": "code",
   "execution_count": null,
   "metadata": {
    "id": "561-PyLGmWQ7",
    "outputId": "d03b878d-3c6f-4d5d-a1af-315dd2c07857"
   },
   "outputs": [
    {
     "data": {
      "text/plain": [
       "array([[0, 0, 0, ..., 0, 0, 0],\n",
       "       [0, 0, 0, ..., 0, 0, 0],\n",
       "       [3, 0, 0, ..., 0, 0, 0],\n",
       "       ...,\n",
       "       [0, 0, 0, ..., 1, 0, 0],\n",
       "       [0, 0, 1, ..., 0, 0, 0],\n",
       "       [0, 0, 0, ..., 0, 0, 0]], dtype=int64)"
      ]
     },
     "execution_count": 109,
     "metadata": {},
     "output_type": "execute_result"
    }
   ],
   "source": [
    "scores_T"
   ]
  },
  {
   "cell_type": "code",
   "execution_count": null,
   "metadata": {
    "id": "p9BqJJkFmWQ9",
    "outputId": "22227d2d-cc62-4925-b363-924cee86f264"
   },
   "outputs": [
    {
     "name": "stdout",
     "output_type": "stream",
     "text": [
      "100 3852\n"
     ]
    }
   ],
   "source": [
    "print(num_user, num_item)"
   ]
  },
  {
   "cell_type": "markdown",
   "metadata": {
    "id": "SAXaGXZUmWQ-"
   },
   "source": [
    "## ユーザーベースのリコメンド\n",
    "\n",
    "では、実際にリコメンド部分をプログラミングします。\n",
    "ユーザーベースのリコメンドを一言で言うと、「***同じような商品評価傾向にあるユーザーが高く評価した商品をレコメンドすればよい***」\n",
    "\n",
    "手順を簡単に説明すると、\n",
    "\n",
    "1. ユーザー間の類似度を各ユーザーの商品評価（cross.csv）をもとに算出\n",
    "    - 「調整コサイン類似度」を使用\n",
    "1. リコメンド対象ユーザーと10個以上同じ商品を評価しているユーザーに対してのみ抜き出し、1.で計算したリコメンド対象ユーザーとの類似度が大きい順に並べる\n",
    "1. 類似度順ユーザーリストを基に、リコメンド対象ユーザー が商品に対して付けうる評価　\n",
    "を予測し、それをすべての商品に対して行う。 \n",
    "1. 3.で計算した商品予測評価値が大きい順に並べたものがリコメンド"
   ]
  },
  {
   "cell_type": "markdown",
   "metadata": {
    "id": "rJJAYqJgmWRC"
   },
   "source": [
    "### 1.＆2. ユーザー間の類似度を算出\n",
    "- コサイン類似度とは、2つのベクトルのなす角のコサインを表す\n",
    "- $cos(\\overrightarrow{a},\\overrightarrow{b}) = \\dfrac{\\overrightarrow{a}\\cdot\\overrightarrow{b}}{|\\overrightarrow{a}||\\overrightarrow{b}|}$、$-1 \\leqq cos(\\overrightarrow{a},\\overrightarrow{b}) \\leqq 1$\n",
    "- つまり、二つのベクトルの方向が似ているほどコサイン類似度の値は大きくなり1に近づく\n",
    "- ユーザー $i$ とユーザー $j$ の類似度は、そのユーザの商品評価をベクトルとしてあらわしたもの（$(r_{(u_1, i)}, r_{(u_2, i)}, ...., r_{(u_n, i)})$ と、$(r_{(u_1, j)}, r_{(u_2, j)}, ...., r_{(u_n, j)})$）のコサイン類似度で表すことができます。\n",
    "    - →コサイン類似度が高い（1に近い）＝ユーザー$i$とユーザー$j$は類似度が高い！\n",
    "- そして、これを改良したものが「調整」コサイン類似度で、以下の式で表される。\n",
    "- $sim(i,j) = \\dfrac{\\sum_{u \\in U_i \\cap U_j} (r_{ui}-\\bar{r_u})\\cdot(r_{uj}-\\bar{r_u})}{\\sqrt{\\sum_{u \\in U_i \\cap U_j}(r_{ui} - \\bar{r_u})^2} \\cdot \\sqrt{\\sum_{u \\in U_i \\cap U_j}(r_{uj} - \\bar{r_u})^2}}$\n",
    "    - $r_{(u,i)}$ はユーザ $u$ のアイテム $i$ に対する評価点、 \n",
    "    - $\\bar{r_u}$ はユーザ $u$ の全アイテムの評価点の平均とします。\n",
    "- Pythonでは`sklearn.metrics.pairwise`のなかの`pairwise_distances`関数で調整コサイン類似度を計算できる"
   ]
  },
  {
   "cell_type": "code",
   "execution_count": null,
   "metadata": {
    "id": "DKHgtWE4mWRD",
    "outputId": "d48da8ac-dc2a-4637-ad93-0311ced7e494"
   },
   "outputs": [
    {
     "name": "stdout",
     "output_type": "stream",
     "text": [
      "#######################  sim_mt : #######################\n",
      "[[1.         0.08990943 0.1113774  ... 0.1053935  0.12061624 0.10482957]\n",
      " [0.08990943 1.         0.11408457 ... 0.09812849 0.10144441 0.13163438]\n",
      " [0.1113774  0.11408457 1.         ... 0.08843851 0.0914686  0.08637074]\n",
      " ...\n",
      " [0.1053935  0.09812849 0.08843851 ... 1.         0.09673566 0.09983056]\n",
      " [0.12061624 0.10144441 0.0914686  ... 0.09673566 1.         0.09543552]\n",
      " [0.10482957 0.13163438 0.08637074 ... 0.09983056 0.09543552 1.        ]]\n",
      "(100, 100)\n",
      "#########################################################\n",
      "上位五名の類似ユーザーと類似度＝ [(91, 0.12767238965361927), (55, 0.12354445837537187), (37, 0.12243713683101065), (4, 0.12101778409367125), (5, 0.119278599250077)]\n"
     ]
    }
   ],
   "source": [
    "# ユーザー間の類似度を算出\n",
    "\n",
    "def get_sim_user(target_userid):\n",
    "    global df_temp, scores, scores_T, num_user, num_item\n",
    "\n",
    "    #コサイン類似度の計算\n",
    "    sim_mt = 1 - pairwise_distances(scores, metric='cosine')\n",
    "    \n",
    "    print(\"#######################  sim_mt : #######################\")\n",
    "    print(sim_mt) # sim_mt[i][j]はユーザーiとユーザーjのコサイン類似度を表す\n",
    "    print(np.shape(sim_mt)) # sim_mtの行列のサイズを表示 -> 100x100\n",
    "    print(\"#########################################################\")\n",
    "\n",
    "    #評価マトリクスと類似度マトリクスから、指定ユーザーの記録を抽出\n",
    "    score_target = scores[target_userid] # [ r_0, r_1, ..., r_n ] target_useridの全商品の評価\n",
    "    sim_target = sim_mt[target_userid] # \n",
    "\n",
    "    #評価物件の共通件数を計算し、10件以上ある場合に参照する\n",
    "    def check_valid_user(i):\n",
    "        indices = np.where(((score_target) * (scores[i])) != 0)[0]\n",
    "        return len(indices) > 10 and i != target_userid\n",
    "\n",
    "    similarities = [] # (ユーザーID, 類似度)のリスト\n",
    "    for i in range(num_user):\n",
    "        if check_valid_user(i): # 10件以上共通して評価している商品があるか？\n",
    "            similarities.append((i, sim_target[i]))\n",
    "        else:\n",
    "            similarities.append((i, 0)) # 使えないデータとして使用しない（類似度0とする）\n",
    "    \n",
    "    # ↑のsimilaritiesの6行は、以下の様にシンプルに書くこともできます。\n",
    "    similarities = [ \n",
    "      ((i, sim_target[i]) if check_valid_user(i) else (i, 0)) \n",
    "      for i in range(num_user)\n",
    "    ]\n",
    "            \n",
    "    #降順に並び替えて返す\n",
    "    return sorted(similarities, key=lambda s: s[1], reverse=True)\n",
    "\n",
    "sim = get_sim_user(10) # ユーザーID10との類似度の高いユーザーを順番に出力\n",
    "print(\"上位五名の類似ユーザーと類似度＝\", sim[0:5])\n"
   ]
  },
  {
   "cell_type": "markdown",
   "metadata": {
    "id": "TXA4qWQ5mWRF"
   },
   "source": [
    "### 3.一つの商品に対するレコメンド\n",
    "\n",
    "\n",
    "作成した類似度順ユーザーリストを基に、*リコメンド対象ユーザー* が商品$i$に対して付けうる評価　$r'_{u, i} $ を予測し、それをすべての商品に対して行う。\n",
    "- 評価予測は以下の式で行う：\n",
    "- $r'_{u, i} = \\dfrac{\\sum_{j \\in Q_t(u)} sim(u, j) * r_{j, i}}{\\sum_{j \\in Q_t(u)} sim(u, j)}$\n",
    "  - ユーザ$u$の未評価アイテム$i$に対する予測評価点$r'_{(u, i)}$を求める\n",
    "  - $r_{u, i} = \\sum_{j \\in Q_t(u)} sim(i, j) * r_{u, j}$とする\n",
    "  - $Q_{t(u)}$は、ユーザー$u$と一定以上類似度が高いユーザーの集団（今回は上位5名）\n",
    "- ユーザー$j$の商品$i$に対する評価$r_{j, i}$を、類似度の高いユーザーそれぞれで合計しているが、そのときにユーザー$j$とリコメンド対象ユーザー* $u$ の類似度を重みとして掛け算した和\n",
    "    - 類似度の高いユーザほど、その人の評価値をリコメンドに大きく反映させる"
   ]
  },
  {
   "cell_type": "code",
   "execution_count": null,
   "metadata": {
    "id": "_ObQhHa-mWRL",
    "outputId": "9a794987-35a9-4562-c547-3bceabf4ae5b"
   },
   "outputs": [
    {
     "name": "stdout",
     "output_type": "stream",
     "text": [
      "ユーザーID10の、商品ID30に対する予測評価は 1.874346510225877 です\n"
     ]
    }
   ],
   "source": [
    "# 次に、上で定義した類似度データを用いて、\n",
    "# ユーザーtarget_useridの商品target_item_idxに対する\n",
    "# おすすめ度を推測する関数を定義します。\n",
    "# 引数kは類似度の高いユーザー評価を何人分利用するかを設定します。\n",
    "\n",
    "def predict_user(similarities, target_userid, target_item_idx, k=8):\n",
    "    global df_temp, scores, scores_T, num_user, num_item\n",
    "    \n",
    "    # リコメンド対象ユーザの今までの評価の平均(avg_target)を、最終的な予測評価値にプラスする用\n",
    "    target_score = scores[target_userid]\n",
    "    avg_target = np.mean(target_score[np.where(target_score >= 1)]) \n",
    "\n",
    "    numerator = 0.0\n",
    "    denominator = 0.0\n",
    "    k_tmp = 0\n",
    "\n",
    "    for similarity in similarities: # 全てのユーザーに対して, 類似度が高い順にみていく\n",
    "        s_usr   = similarity[0] # 類似しているユーザーID\n",
    "        s_sim = similarity[1] # ↑s_usr変数と、リコメンド対象ユーザの類似度\n",
    "\n",
    "        if k_tmp > k or s_sim <= 0.0: break # 類似度の高いユーザk件のみを評価する\n",
    "        score = scores[s_usr]\n",
    "        if score[target_item_idx] >= 1: # そのユーザーがtarget_item_idxの商品を評価している時\n",
    "            denominator += s_sim\n",
    "            numerator += s_sim * (score[target_item_idx] - np.mean(score[np.where(score >= 1)]))\n",
    "            k_tmp += 1\n",
    "    return avg_target + (numerator / denominator) if denominator > 0 else 0\n",
    "\n",
    "print(\"ユーザーID10の、商品ID30に対する予測評価は\",predict_user(sim, 10, 30), \"です\")\n"
   ]
  },
  {
   "cell_type": "markdown",
   "metadata": {
    "id": "wYeH2FH3mWRM"
   },
   "source": [
    "### 4. ↑の手順3.を全商品に対して行いリコメンド商品を決定"
   ]
  },
  {
   "cell_type": "code",
   "execution_count": null,
   "metadata": {
    "id": "mmYBk2nxmWRN",
    "outputId": "191625e3-4da2-4537-8b88-9db9a52b2af4"
   },
   "outputs": [
    {
     "data": {
      "text/plain": [
       "[(1145, 4.784249184013424),\n",
       " (3221, 4.610787130186826),\n",
       " (1196, 4.500085374870782),\n",
       " (2306, 4.4563769171531895),\n",
       " (1491, 4.429958411632503),\n",
       " (2744, 4.41531372827862),\n",
       " (2711, 4.35645259353777),\n",
       " (222, 4.352502018885943),\n",
       " (1542, 4.309079731257668),\n",
       " (3685, 4.306113636613402)]"
      ]
     },
     "execution_count": 113,
     "metadata": {},
     "output_type": "execute_result"
    }
   ],
   "source": [
    "# ↑のpredict_user関数を全ての商品に対してfor文で回せばリコメンドの完成です。\n",
    "\n",
    "def rank_items_user( similarities, target_userid):\n",
    "    global df_temp, scores, scores_T, num_user, num_item\n",
    "    rankings = []\n",
    "    target_score = scores[target_userid]\n",
    "    # 物件全てで評価値を予測\n",
    "    for i in range(num_item):\n",
    "        # 既に評価済みの場合はスキップ\n",
    "        if target_score[i] >= 1:\n",
    "            continue\n",
    "        #関数参照のためself挿入\n",
    "        rankings.append((i, predict_user(similarities, target_userid, i)))\n",
    "    return sorted(rankings, key=lambda r: r[1], reverse=True)\n",
    "\n",
    "ranking = rank_items_user(sim, 10)\n",
    "ranking[0:10] # 上位10個のおすすめ商品を表示（商品ID, 予測評価）の順）"
   ]
  },
  {
   "cell_type": "markdown",
   "metadata": {
    "id": "qEq0Nx1VmWRP"
   },
   "source": [
    "# アイテムベースのリコメンド\n",
    "\n",
    "今度はユーザベースのリコメンドとは逆のことを行います。\n",
    "\n",
    "***全ユーザの評価を基に、商品ごとの類似度を計算し、同じような類似度だったら評価値も同じような値になるだろう***という考え方\n",
    "\n",
    "手順は\n",
    "\n",
    "1. 調整コサイン類似度を用いて、各ユーザーの商品評価の値をもとに、各商品どうしの類似度を計算します。\n",
    "2. 以下の式で商品$i$のユーザー$u$の評価予測値を算出する。\n",
    "\t- $r'_(i, u) = \\dfrac{\\sum_{j \\in Y(u)} sim(i, j) \\cdot score(u, j)}{\\sum_{j \\in Y(u)} sim(i, j)}$\n",
    "\t- $Y(u)$はユーザー$u$が評価している商品のリスト\n",
    "\t- $score(u, j)$は、ユーザー$u$の商品$j$に対する評価点\n",
    "\t- 類似度が高い商品の場合、評価点数も同じになるだろうという考えで作成されたもの\n",
    "\t- ユーザー$u$の評価点数に商品ごとの類似度という重みを付けた和\n",
    "3. すべての商品について2.を繰り返し行い、2.の値が高いものから順にレコメンドする。\n",
    "\n",
    "\n"
   ]
  },
  {
   "cell_type": "code",
   "execution_count": null,
   "metadata": {
    "id": "VvporERBmWRQ",
    "outputId": "08f95477-63a2-40c0-f4dc-e13987b28838"
   },
   "outputs": [
    {
     "name": "stdout",
     "output_type": "stream",
     "text": [
      "[[1.         0.         0.14440527 ... 0.21798446 0.         0.0732645 ]\n",
      " [0.         1.         0.         ... 0.08097763 0.         0.        ]\n",
      " [0.14440527 0.         1.         ... 0.         0.         0.        ]\n",
      " ...\n",
      " [0.21798446 0.08097763 0.         ... 1.         0.09338049 0.        ]\n",
      " [0.         0.         0.         ... 0.09338049 1.         0.15064872]\n",
      " [0.0732645  0.         0.         ... 0.         0.15064872 1.        ]]\n"
     ]
    },
    {
     "data": {
      "text/plain": [
       "(3852, 3852)"
      ]
     },
     "execution_count": 114,
     "metadata": {},
     "output_type": "execute_result"
    }
   ],
   "source": [
    "# 調整コサイン類似度を用いて、商品同士の類似度算出\n",
    "# get_sim_item関数の返り値は  商品数 x 商品数の行列で、sim[i, j]は商品iとjの類似度を表す\n",
    "# つまり、返り値は対称行列(sim[i, j] = sim[j, i])になっている\n",
    "\n",
    "def get_sim_item():\n",
    "    global df_temp, scores, scores_T, num_user, num_item\n",
    "    similarities = 1 - pairwise_distances(scores_T, metric='cosine')\n",
    "    # np.fill_diagonal(similarities, 0) # 体格成分を0にする\n",
    "    return similarities\n",
    "sim = get_sim_item()\n",
    "print(sim)\n",
    "sim.shape"
   ]
  },
  {
   "cell_type": "code",
   "execution_count": null,
   "metadata": {
    "id": "hP7N7P1XmWRS",
    "outputId": "940b06bc-f1b0-4124-f531-a6c846320057"
   },
   "outputs": [
    {
     "name": "stdout",
     "output_type": "stream",
     "text": [
      "おすすめ商品上位5個は [(1462, 3.4989695417592994), (896, 3.445390426682878), (2341, 3.431449194547922), (2224, 3.4253902133319536), (1821, 3.424193347885699)] です\n"
     ]
    }
   ],
   "source": [
    "def rank_items_item(similarities, target_userid):\n",
    "    global df_temp, scores, scores_T, num_user, num_item\n",
    "    u = scores[target_userid] # target_useridの全商品に対する評価値リスト\n",
    "\n",
    "    # xは商品数 x 商品数の配列で、\n",
    "    # リコメンド対象ユーザが評価済みの商品jの部分(x[j])だけ値を1にする\n",
    "    x = np.zeros(num_item)\n",
    "    x[u > 0] = 1 \n",
    "\n",
    "    nominater = similarities.dot(u)\n",
    "    denominater = similarities.dot(x)\n",
    "\n",
    "    rankings = [(i, 0) for i in range(num_item)]\n",
    "\n",
    "    for i in range(num_item):\n",
    "        if denominater[i] != 0 and u[i] > 0:\n",
    "            rankings[i] = (i, nominater[i] / denominater[i])\n",
    "    return sorted(rankings, key=lambda r: r[1], reverse=True)\n",
    "\n",
    "rankings = rank_items_item(sim, 10) # ユーザー10に対するリコメンド\n",
    "print(\"おすすめ商品上位5個は\", rankings[0:5], \"です\")"
   ]
  },
  {
   "cell_type": "markdown",
   "metadata": {
    "id": "PrlzWzPamWRV"
   },
   "source": [
    "# 新規ユーザのリコメンド\n",
    "新規ユーザの場合は、過去の商品評価データがないため、ユーザや商品の類似度を算出して,,,ということができません。\n",
    "「最寄り駅」と「年齢」の情報だけからリコメンデーションをする必要があります。\n",
    "\n",
    "ということで、以下の様なアプローチを行います。\n",
    "\n",
    "- 最寄り駅が一致している物件に絞り込む\n",
    "- 同じような年齢層の既存ユーザーの評価を商品ごとに合計し、合計が高いものからリコメンデーションする\n",
    "   - 今回は、「同じような年齢層」は「年齢の10の位が同じ人」として実装する\n",
    "\n",
    "\n",
    "全体プログラム：https://gitlab.com/techpreneur/dojo-summer-2021/advance/algorithm/-/blob/main/6_recommend_new_user.py"
   ]
  },
  {
   "cell_type": "code",
   "execution_count": null,
   "metadata": {
    "id": "nlAQcYb6mWRY"
   },
   "outputs": [],
   "source": [
    "pd.set_option('display.max_columns', 100)"
   ]
  },
  {
   "cell_type": "code",
   "execution_count": null,
   "metadata": {
    "id": "7SQy5ztHmWRb"
   },
   "outputs": [],
   "source": [
    "# データを読みこみます。\n",
    "df_estate = pd.read_csv(\"./data/RentRoom.csv\")\n",
    "\n",
    "# RentRoom.csvの中身\n",
    "# id,     pref_name, city_name,  district_name, built_year, structure,  top_floor_num, room_type, \\\n",
    "# A00001, 東京都,     世田谷区,    喜多見７丁目,     1988,      ＲＣ,        2,              1R,  \\\n",
    "# price,   area,  latitude,    longitude,    nearest_station_id,  dist_to_nearest_station\n",
    "# 2812.27,  23,   35.63129425, 139.5940049,  S00001,              1096.93\n",
    "\n",
    "df_station = pd.read_csv(\"./data/station.csv\")\n",
    "# station.csvの中身\n",
    "# id    name   latitude   longitude\n",
    "# 0   S00001     喜多見  35.636745  139.587513\n",
    "# 1   S00002    駒沢大学  35.633489  139.661627\n",
    "# 2   S00003     上野毛  35.612023  139.638845\n",
    "# 3   S00004   二子玉川園  35.611512  139.626545\n",
    "\n",
    "\n",
    "df_user = pd.read_csv(\"./data/cross.csv\")\n",
    "# cross.csvの中身：\n",
    "# id,     age, gender, household_num, A00001, A00002, A00003......\n",
    "# B00001, 62,  1,      1,             0,      0,       3, .......\n",
    "# B00002. 35,  0,      1,             3,      0,       1, ....... \n",
    "\n",
    "# ユーザデータに新しく`age_10`というカラムを作り、年齢（`age`カラムの値）の10の位を代入します\n",
    "df_user[\"age_10\"] = df_user[\"age\"].map(lambda x: str(x)[:1]) "
   ]
  },
  {
   "cell_type": "code",
   "execution_count": null,
   "metadata": {
    "id": "5VJ2kLLPmWRc",
    "outputId": "13fe7a70-f1cd-4a24-aac8-22769a66dcde"
   },
   "outputs": [
    {
     "data": {
      "text/plain": [
       "'S00038'"
      ]
     },
     "execution_count": 118,
     "metadata": {},
     "output_type": "execute_result"
    }
   ],
   "source": [
    "# 最寄り駅が同じ物件のみ絞り込みます。\n",
    "# rentRoom.csvに入っている駅データはIDとして格納されています。\n",
    "# しかし、入力フォームはIDではなく駅名を入力したいので、\n",
    "# 絞り込むには駅名→IDに変換するget_station_id関数が必要です\n",
    "\n",
    "def get_station_id(station_str):\n",
    "    global df_estate, df_user, df_station\n",
    "    df_station_extracted = df_station[df_station[\"name\"] == station_str]\n",
    "    if len(df_station_extracted) == 0:\n",
    "        print(\"該当する駅が存在しませせん\")\n",
    "        print(\"駅リスト : \", df_station[\"name\"])\n",
    "        return \"\"\n",
    "    station_id = str(df_station_extracted['id'].values[0])\n",
    "    return station_id \n",
    "\n",
    "get_station_id(\"下北沢\")"
   ]
  },
  {
   "cell_type": "code",
   "execution_count": null,
   "metadata": {
    "id": "XsuAF4Y1mWRd",
    "outputId": "b8c95f74-20c4-4aed-995a-c71cdd459687"
   },
   "outputs": [
    {
     "data": {
      "text/plain": [
       "[['A03809', 0.7575757575757576],\n",
       " ['A03834', 0.6666666666666666],\n",
       " ['A03830', 0.6060606060606061],\n",
       " ['A03817', 0.6060606060606061],\n",
       " ['A03821', 0.6060606060606061]]"
      ]
     },
     "execution_count": 119,
     "metadata": {},
     "output_type": "execute_result"
    }
   ],
   "source": [
    "# 年齢の差が10歳未満の人のみ絞り込む\n",
    "age = 30 # ターゲットの年齢は30歳とする\n",
    "df_user_extracted = df_user[abs(df_user[\"age\"] - age) <= 10] \n",
    "\n",
    "# 下北沢駅のIDを取得\n",
    "station_id = get_station_id(\"下北沢\")\n",
    "\n",
    "# df_extractedに最寄り駅が下北沢の物件のみ抽出\n",
    "df_extracted = df_estate[df_estate[\"nearest_station_id\"] == station_id]\n",
    "\n",
    "# df_extractedのIDだけを取り出してリストとして取り出す\n",
    "valid_estate_ids = df_extracted[\"id\"].tolist()\n",
    "\n",
    "# 年齢層が同じユーザの評価のみを取り出す\n",
    "df_extracted = df_user_extracted[valid_estate_ids]\n",
    "\n",
    "# 各物件に対して、同じ年齢層のユーザー評価の平均を取り、その値でソートしてリコメンド！\n",
    "mean_scores = df_extracted.mean().sort_values(ascending=False).reset_index()\n",
    "rankings = [list(mean_scores.loc[i]) for i in range(len(mean_scores))]\n",
    "\n",
    "rankings[0:5]\n"
   ]
  },
  {
   "cell_type": "code",
   "execution_count": null,
   "metadata": {
    "id": "8PzgMDdkmWRe"
   },
   "outputs": [],
   "source": []
  }
 ],
 "metadata": {
  "colab": {
   "collapsed_sections": [],
   "name": "6_recommend.ipynb",
   "provenance": []
  },
  "kernelspec": {
   "display_name": "Python 3 (ipykernel)",
   "language": "python",
   "name": "python3"
  },
  "language_info": {
   "codemirror_mode": {
    "name": "ipython",
    "version": 3
   },
   "file_extension": ".py",
   "mimetype": "text/x-python",
   "name": "python",
   "nbconvert_exporter": "python",
   "pygments_lexer": "ipython3",
   "version": "3.9.1"
  }
 },
 "nbformat": 4,
 "nbformat_minor": 1
}
